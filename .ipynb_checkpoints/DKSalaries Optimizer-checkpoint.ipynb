{
 "cells": [
  {
   "cell_type": "markdown",
   "metadata": {},
   "source": [
    "### DK Salaries Optimizer"
   ]
  },
  {
   "cell_type": "code",
   "execution_count": 54,
   "metadata": {},
   "outputs": [],
   "source": [
    "import pandas as pd\n",
    "import numpy as np\n",
    "from pulp import *"
   ]
  },
  {
   "cell_type": "code",
   "execution_count": 55,
   "metadata": {},
   "outputs": [
    {
     "data": {
      "text/html": [
       "<div>\n",
       "<style scoped>\n",
       "    .dataframe tbody tr th:only-of-type {\n",
       "        vertical-align: middle;\n",
       "    }\n",
       "\n",
       "    .dataframe tbody tr th {\n",
       "        vertical-align: top;\n",
       "    }\n",
       "\n",
       "    .dataframe thead th {\n",
       "        text-align: right;\n",
       "    }\n",
       "</style>\n",
       "<table border=\"1\" class=\"dataframe\">\n",
       "  <thead>\n",
       "    <tr style=\"text-align: right;\">\n",
       "      <th></th>\n",
       "      <th>Name</th>\n",
       "      <th>Roster Position</th>\n",
       "      <th>Salary</th>\n",
       "      <th>TeamAbbrev</th>\n",
       "      <th>AvgPointsPerGame</th>\n",
       "    </tr>\n",
       "  </thead>\n",
       "  <tbody>\n",
       "    <tr>\n",
       "      <th>0</th>\n",
       "      <td>Donovan Mitchell</td>\n",
       "      <td>PG/SG/G/UTIL</td>\n",
       "      <td>9900</td>\n",
       "      <td>UTA</td>\n",
       "      <td>39.67</td>\n",
       "    </tr>\n",
       "    <tr>\n",
       "      <th>1</th>\n",
       "      <td>Jamal Murray</td>\n",
       "      <td>PG/SG/G/UTIL</td>\n",
       "      <td>9700</td>\n",
       "      <td>DEN</td>\n",
       "      <td>35.51</td>\n",
       "    </tr>\n",
       "    <tr>\n",
       "      <th>2</th>\n",
       "      <td>Nikola Jokic</td>\n",
       "      <td>C/UTIL</td>\n",
       "      <td>9500</td>\n",
       "      <td>DEN</td>\n",
       "      <td>46.61</td>\n",
       "    </tr>\n",
       "    <tr>\n",
       "      <th>3</th>\n",
       "      <td>Jayson Tatum</td>\n",
       "      <td>SF/PF/F/UTIL</td>\n",
       "      <td>9200</td>\n",
       "      <td>BOS</td>\n",
       "      <td>42.15</td>\n",
       "    </tr>\n",
       "    <tr>\n",
       "      <th>4</th>\n",
       "      <td>Pascal Siakam</td>\n",
       "      <td>PF/F/UTIL</td>\n",
       "      <td>8000</td>\n",
       "      <td>TOR</td>\n",
       "      <td>40.82</td>\n",
       "    </tr>\n",
       "  </tbody>\n",
       "</table>\n",
       "</div>"
      ],
      "text/plain": [
       "               Name Roster Position  Salary TeamAbbrev  AvgPointsPerGame\n",
       "0  Donovan Mitchell    PG/SG/G/UTIL    9900        UTA             39.67\n",
       "1      Jamal Murray    PG/SG/G/UTIL    9700        DEN             35.51\n",
       "2      Nikola Jokic          C/UTIL    9500        DEN             46.61\n",
       "3      Jayson Tatum    SF/PF/F/UTIL    9200        BOS             42.15\n",
       "4     Pascal Siakam       PF/F/UTIL    8000        TOR             40.82"
      ]
     },
     "execution_count": 55,
     "metadata": {},
     "output_type": "execute_result"
    }
   ],
   "source": [
    "dk_data = pd.read_csv(\"dksalaries.csv\")\n",
    "\n",
    "# Get the fields that are useful\n",
    "dk_data = dk_data[['Name', 'Roster Position', 'Salary', 'TeamAbbrev', 'AvgPointsPerGame']]\n",
    "\n",
    "dk_data.head()"
   ]
  },
  {
   "cell_type": "code",
   "execution_count": 165,
   "metadata": {},
   "outputs": [],
   "source": [
    "injured_players = ['Gordon Hayward']"
   ]
  },
  {
   "cell_type": "code",
   "execution_count": 166,
   "metadata": {},
   "outputs": [],
   "source": [
    "dk_data = dk_data[~dk_data['Name'].isin(injured_players)]"
   ]
  },
  {
   "cell_type": "code",
   "execution_count": 167,
   "metadata": {},
   "outputs": [],
   "source": [
    "# Roster Positions for NBA \n",
    "nba_roster_positions = ['PG', 'SG', 'SF', 'PF', 'C', 'G', 'F', 'UTIL']\n",
    "\n",
    "SALARY_CAP = 50000\n",
    "MAX_PLAYERS = 8\n",
    "\n",
    "\n",
    "def make_vars(name, position, roster_position):\n",
    "    if position in roster_position:\n",
    "        return LpVariable(name + '_' + position,lowBound=0, cat='Binary')\n",
    "    return 0\n",
    "\n",
    "for position in nba_roster_positions:\n",
    "    dk_data[position] = dk_data.apply(lambda x: make_vars(x['Name'],position, x['Roster Position']),axis=1)\n",
    "\n",
    "    #[1 if position in x else 0 for x in dk_data['Roster Position']]"
   ]
  },
  {
   "cell_type": "code",
   "execution_count": 168,
   "metadata": {},
   "outputs": [],
   "source": [
    "prob = LpProblem(\"OptimizeDK\",LpMaximize)"
   ]
  },
  {
   "cell_type": "code",
   "execution_count": 169,
   "metadata": {},
   "outputs": [],
   "source": [
    "names = dk_data['Name']\n",
    "salaries = dk_data['Salary']\n",
    "projected_points = dk_data['AvgPointsPerGame']"
   ]
  },
  {
   "cell_type": "code",
   "execution_count": 170,
   "metadata": {},
   "outputs": [
    {
     "data": {
      "text/html": [
       "<div>\n",
       "<style scoped>\n",
       "    .dataframe tbody tr th:only-of-type {\n",
       "        vertical-align: middle;\n",
       "    }\n",
       "\n",
       "    .dataframe tbody tr th {\n",
       "        vertical-align: top;\n",
       "    }\n",
       "\n",
       "    .dataframe thead th {\n",
       "        text-align: right;\n",
       "    }\n",
       "</style>\n",
       "<table border=\"1\" class=\"dataframe\">\n",
       "  <thead>\n",
       "    <tr style=\"text-align: right;\">\n",
       "      <th></th>\n",
       "      <th>Name</th>\n",
       "      <th>Roster Position</th>\n",
       "      <th>Salary</th>\n",
       "      <th>TeamAbbrev</th>\n",
       "      <th>AvgPointsPerGame</th>\n",
       "      <th>PG</th>\n",
       "      <th>SG</th>\n",
       "      <th>SF</th>\n",
       "      <th>PF</th>\n",
       "      <th>C</th>\n",
       "      <th>G</th>\n",
       "      <th>F</th>\n",
       "      <th>UTIL</th>\n",
       "    </tr>\n",
       "  </thead>\n",
       "  <tbody>\n",
       "    <tr>\n",
       "      <th>0</th>\n",
       "      <td>Donovan Mitchell</td>\n",
       "      <td>PG/SG/G/UTIL</td>\n",
       "      <td>9900</td>\n",
       "      <td>UTA</td>\n",
       "      <td>39.67</td>\n",
       "      <td>Donovan_Mitchell_PG</td>\n",
       "      <td>Donovan_Mitchell_SG</td>\n",
       "      <td>0</td>\n",
       "      <td>0</td>\n",
       "      <td>0</td>\n",
       "      <td>Donovan_Mitchell_G</td>\n",
       "      <td>0</td>\n",
       "      <td>Donovan_Mitchell_UTIL</td>\n",
       "    </tr>\n",
       "    <tr>\n",
       "      <th>1</th>\n",
       "      <td>Jamal Murray</td>\n",
       "      <td>PG/SG/G/UTIL</td>\n",
       "      <td>9700</td>\n",
       "      <td>DEN</td>\n",
       "      <td>35.51</td>\n",
       "      <td>Jamal_Murray_PG</td>\n",
       "      <td>Jamal_Murray_SG</td>\n",
       "      <td>0</td>\n",
       "      <td>0</td>\n",
       "      <td>0</td>\n",
       "      <td>Jamal_Murray_G</td>\n",
       "      <td>0</td>\n",
       "      <td>Jamal_Murray_UTIL</td>\n",
       "    </tr>\n",
       "    <tr>\n",
       "      <th>2</th>\n",
       "      <td>Nikola Jokic</td>\n",
       "      <td>C/UTIL</td>\n",
       "      <td>9500</td>\n",
       "      <td>DEN</td>\n",
       "      <td>46.61</td>\n",
       "      <td>0</td>\n",
       "      <td>0</td>\n",
       "      <td>0</td>\n",
       "      <td>0</td>\n",
       "      <td>Nikola_Jokic_C</td>\n",
       "      <td>0</td>\n",
       "      <td>0</td>\n",
       "      <td>Nikola_Jokic_UTIL</td>\n",
       "    </tr>\n",
       "    <tr>\n",
       "      <th>3</th>\n",
       "      <td>Jayson Tatum</td>\n",
       "      <td>SF/PF/F/UTIL</td>\n",
       "      <td>9200</td>\n",
       "      <td>BOS</td>\n",
       "      <td>42.15</td>\n",
       "      <td>0</td>\n",
       "      <td>0</td>\n",
       "      <td>Jayson_Tatum_SF</td>\n",
       "      <td>Jayson_Tatum_PF</td>\n",
       "      <td>0</td>\n",
       "      <td>0</td>\n",
       "      <td>Jayson_Tatum_F</td>\n",
       "      <td>Jayson_Tatum_UTIL</td>\n",
       "    </tr>\n",
       "    <tr>\n",
       "      <th>4</th>\n",
       "      <td>Pascal Siakam</td>\n",
       "      <td>PF/F/UTIL</td>\n",
       "      <td>8000</td>\n",
       "      <td>TOR</td>\n",
       "      <td>40.82</td>\n",
       "      <td>0</td>\n",
       "      <td>0</td>\n",
       "      <td>0</td>\n",
       "      <td>Pascal_Siakam_PF</td>\n",
       "      <td>0</td>\n",
       "      <td>0</td>\n",
       "      <td>Pascal_Siakam_F</td>\n",
       "      <td>Pascal_Siakam_UTIL</td>\n",
       "    </tr>\n",
       "  </tbody>\n",
       "</table>\n",
       "</div>"
      ],
      "text/plain": [
       "               Name Roster Position  Salary TeamAbbrev  AvgPointsPerGame  \\\n",
       "0  Donovan Mitchell    PG/SG/G/UTIL    9900        UTA             39.67   \n",
       "1      Jamal Murray    PG/SG/G/UTIL    9700        DEN             35.51   \n",
       "2      Nikola Jokic          C/UTIL    9500        DEN             46.61   \n",
       "3      Jayson Tatum    SF/PF/F/UTIL    9200        BOS             42.15   \n",
       "4     Pascal Siakam       PF/F/UTIL    8000        TOR             40.82   \n",
       "\n",
       "                    PG                   SG               SF  \\\n",
       "0  Donovan_Mitchell_PG  Donovan_Mitchell_SG                0   \n",
       "1      Jamal_Murray_PG      Jamal_Murray_SG                0   \n",
       "2                    0                    0                0   \n",
       "3                    0                    0  Jayson_Tatum_SF   \n",
       "4                    0                    0                0   \n",
       "\n",
       "                 PF               C                   G                F  \\\n",
       "0                 0               0  Donovan_Mitchell_G                0   \n",
       "1                 0               0      Jamal_Murray_G                0   \n",
       "2                 0  Nikola_Jokic_C                   0                0   \n",
       "3   Jayson_Tatum_PF               0                   0   Jayson_Tatum_F   \n",
       "4  Pascal_Siakam_PF               0                   0  Pascal_Siakam_F   \n",
       "\n",
       "                    UTIL  \n",
       "0  Donovan_Mitchell_UTIL  \n",
       "1      Jamal_Murray_UTIL  \n",
       "2      Nikola_Jokic_UTIL  \n",
       "3      Jayson_Tatum_UTIL  \n",
       "4     Pascal_Siakam_UTIL  "
      ]
     },
     "execution_count": 170,
     "metadata": {},
     "output_type": "execute_result"
    }
   ],
   "source": [
    "dk_data.head()"
   ]
  },
  {
   "cell_type": "code",
   "execution_count": 173,
   "metadata": {},
   "outputs": [],
   "source": [
    "# The objective function is added to 'prob' first\n",
    "# OBJ FUNCTION\n",
    "prob += lpSum([dk_data[i] * projected_points for i in nba_roster_positions]), 'Projected Points'"
   ]
  },
  {
   "cell_type": "code",
   "execution_count": 174,
   "metadata": {},
   "outputs": [],
   "source": [
    "# CONSTRAINTS\n",
    "\n",
    "# Stay under salary cap\n",
    "prob += lpSum(salaries * dk_data[i] for i in nba_roster_positions) <= SALARY_CAP\n",
    "\n",
    "# Stay under Num Players\n",
    "prob += lpSum(dk_data[i] for i in nba_roster_positions) <= MAX_PLAYERS\n",
    "\n",
    "# Select one of each position\n",
    "for position in nba_roster_positions:\n",
    "    prob += lpSum([dk_data[position]]) >= 1\n",
    "\n",
    "# Don't use same player twice\n",
    "for index, row in dk_data.iterrows():\n",
    "    prob += lpSum(row[i] for i in nba_roster_positions) <= 1\n"
   ]
  },
  {
   "cell_type": "code",
   "execution_count": 175,
   "metadata": {},
   "outputs": [],
   "source": [
    "# prob"
   ]
  },
  {
   "cell_type": "code",
   "execution_count": 176,
   "metadata": {},
   "outputs": [
    {
     "data": {
      "text/plain": [
       "1"
      ]
     },
     "execution_count": 176,
     "metadata": {},
     "output_type": "execute_result"
    }
   ],
   "source": [
    "# The problem is solved using PuLP's choice of Solver\n",
    "prob.solve()"
   ]
  },
  {
   "cell_type": "code",
   "execution_count": 177,
   "metadata": {},
   "outputs": [
    {
     "data": {
      "text/plain": [
       "1"
      ]
     },
     "execution_count": 177,
     "metadata": {},
     "output_type": "execute_result"
    }
   ],
   "source": [
    "prob.status"
   ]
  },
  {
   "cell_type": "code",
   "execution_count": 178,
   "metadata": {},
   "outputs": [
    {
     "name": "stdout",
     "output_type": "stream",
     "text": [
      "Total Estimated Points =  261.13\n"
     ]
    }
   ],
   "source": [
    "print(\"Total Estimated Points = \", value(prob.objective))\n"
   ]
  },
  {
   "cell_type": "code",
   "execution_count": 179,
   "metadata": {},
   "outputs": [
    {
     "name": "stdout",
     "output_type": "stream",
     "text": [
      "Bojan_Bogdanovic_SF\n",
      "Enes_Kanter_UTIL\n",
      "Gary_Harris_SG\n",
      "Kemba_Walker_PG\n",
      "Kyle_Lowry_G\n",
      "Nikola_Jokic_C\n",
      "Norman_Powell_F\n",
      "Pascal_Siakam_PF\n"
     ]
    }
   ],
   "source": [
    "# Each of the variables is printed with it's resolved optimum value\n",
    "for v in prob.variables():\n",
    "    if v.varValue == 1:\n",
    "        print(v.name)\n",
    "        v.getName"
   ]
  },
  {
   "cell_type": "code",
   "execution_count": null,
   "metadata": {},
   "outputs": [],
   "source": []
  }
 ],
 "metadata": {
  "kernelspec": {
   "display_name": "Python 3",
   "language": "python",
   "name": "python3"
  },
  "language_info": {
   "codemirror_mode": {
    "name": "ipython",
    "version": 3
   },
   "file_extension": ".py",
   "mimetype": "text/x-python",
   "name": "python",
   "nbconvert_exporter": "python",
   "pygments_lexer": "ipython3",
   "version": "3.7.0"
  }
 },
 "nbformat": 4,
 "nbformat_minor": 2
}
