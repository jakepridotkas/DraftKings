{
 "cells": [
  {
   "cell_type": "markdown",
   "metadata": {},
   "source": [
    "### DK Salaries Optimizer"
   ]
  },
  {
   "cell_type": "code",
   "execution_count": 1,
   "metadata": {},
   "outputs": [],
   "source": [
    "import pandas as pd\n",
    "import numpy as np\n",
    "from pulp import *"
   ]
  },
  {
   "cell_type": "code",
   "execution_count": 16,
   "metadata": {},
   "outputs": [
    {
     "data": {
      "text/html": [
       "<div>\n",
       "<style scoped>\n",
       "    .dataframe tbody tr th:only-of-type {\n",
       "        vertical-align: middle;\n",
       "    }\n",
       "\n",
       "    .dataframe tbody tr th {\n",
       "        vertical-align: top;\n",
       "    }\n",
       "\n",
       "    .dataframe thead th {\n",
       "        text-align: right;\n",
       "    }\n",
       "</style>\n",
       "<table border=\"1\" class=\"dataframe\">\n",
       "  <thead>\n",
       "    <tr style=\"text-align: right;\">\n",
       "      <th></th>\n",
       "      <th>Name</th>\n",
       "      <th>Roster Position</th>\n",
       "      <th>Salary</th>\n",
       "      <th>TeamAbbrev</th>\n",
       "      <th>AvgPointsPerGame</th>\n",
       "    </tr>\n",
       "  </thead>\n",
       "  <tbody>\n",
       "    <tr>\n",
       "      <th>0</th>\n",
       "      <td>Giannis Antetokounmpo</td>\n",
       "      <td>PF/F/UTIL</td>\n",
       "      <td>11400</td>\n",
       "      <td>MIL</td>\n",
       "      <td>59.39</td>\n",
       "    </tr>\n",
       "    <tr>\n",
       "      <th>1</th>\n",
       "      <td>James Harden</td>\n",
       "      <td>PG/SG/G/UTIL</td>\n",
       "      <td>11200</td>\n",
       "      <td>HOU</td>\n",
       "      <td>59.62</td>\n",
       "    </tr>\n",
       "    <tr>\n",
       "      <th>2</th>\n",
       "      <td>Russell Westbrook</td>\n",
       "      <td>PG/G/UTIL</td>\n",
       "      <td>8900</td>\n",
       "      <td>HOU</td>\n",
       "      <td>50.06</td>\n",
       "    </tr>\n",
       "    <tr>\n",
       "      <th>3</th>\n",
       "      <td>Jimmy Butler</td>\n",
       "      <td>SG/SF/F/G/UTIL</td>\n",
       "      <td>8300</td>\n",
       "      <td>MIA</td>\n",
       "      <td>41.53</td>\n",
       "    </tr>\n",
       "    <tr>\n",
       "      <th>4</th>\n",
       "      <td>Chris Paul</td>\n",
       "      <td>PG/G/UTIL</td>\n",
       "      <td>8200</td>\n",
       "      <td>OKC</td>\n",
       "      <td>37.53</td>\n",
       "    </tr>\n",
       "  </tbody>\n",
       "</table>\n",
       "</div>"
      ],
      "text/plain": [
       "                    Name Roster Position  Salary TeamAbbrev  AvgPointsPerGame\n",
       "0  Giannis Antetokounmpo       PF/F/UTIL   11400        MIL             59.39\n",
       "1           James Harden    PG/SG/G/UTIL   11200        HOU             59.62\n",
       "2      Russell Westbrook       PG/G/UTIL    8900        HOU             50.06\n",
       "3           Jimmy Butler  SG/SF/F/G/UTIL    8300        MIA             41.53\n",
       "4             Chris Paul       PG/G/UTIL    8200        OKC             37.53"
      ]
     },
     "execution_count": 16,
     "metadata": {},
     "output_type": "execute_result"
    }
   ],
   "source": [
    "dk_data = pd.read_csv(\"dksalaries_nba.csv\")\n",
    "\n",
    "# Get the fields that are useful\n",
    "dk_data = dk_data[['Name', 'Roster Position', 'Salary', 'TeamAbbrev', 'AvgPointsPerGame']]\n",
    "\n",
    "dk_data.head()"
   ]
  },
  {
   "cell_type": "code",
   "execution_count": 17,
   "metadata": {},
   "outputs": [],
   "source": [
    "injured_players = ['Gordon Hayward', 'Eric Bledsoe']"
   ]
  },
  {
   "cell_type": "code",
   "execution_count": 18,
   "metadata": {},
   "outputs": [],
   "source": [
    "dk_data = dk_data[~dk_data['Name'].isin(injured_players)]"
   ]
  },
  {
   "cell_type": "code",
   "execution_count": 19,
   "metadata": {},
   "outputs": [],
   "source": [
    "# Roster Positions for NBA \n",
    "nba_roster_positions = ['PG', 'SG', 'SF', 'PF', 'C', 'G', 'F', 'UTIL']\n",
    "\n",
    "SALARY_CAP = 50000\n",
    "MAX_PLAYERS = 8\n",
    "\n",
    "\n",
    "def make_vars(name, position, roster_position):\n",
    "    if position in roster_position:\n",
    "        return LpVariable(name + '_' + position,lowBound=0, cat='Binary')\n",
    "    return 0\n",
    "\n",
    "for position in nba_roster_positions:\n",
    "    dk_data[position] = dk_data.apply(lambda x: make_vars(x['Name'],position, x['Roster Position']),axis=1)\n",
    "\n",
    "    #[1 if position in x else 0 for x in dk_data['Roster Position']]"
   ]
  },
  {
   "cell_type": "code",
   "execution_count": 20,
   "metadata": {},
   "outputs": [],
   "source": [
    "prob = LpProblem(\"OptimizeDK\",LpMaximize)"
   ]
  },
  {
   "cell_type": "code",
   "execution_count": 21,
   "metadata": {},
   "outputs": [],
   "source": [
    "names = dk_data['Name']\n",
    "salaries = dk_data['Salary']\n",
    "projected_points = dk_data['AvgPointsPerGame']"
   ]
  },
  {
   "cell_type": "code",
   "execution_count": 22,
   "metadata": {},
   "outputs": [
    {
     "data": {
      "text/html": [
       "<div>\n",
       "<style scoped>\n",
       "    .dataframe tbody tr th:only-of-type {\n",
       "        vertical-align: middle;\n",
       "    }\n",
       "\n",
       "    .dataframe tbody tr th {\n",
       "        vertical-align: top;\n",
       "    }\n",
       "\n",
       "    .dataframe thead th {\n",
       "        text-align: right;\n",
       "    }\n",
       "</style>\n",
       "<table border=\"1\" class=\"dataframe\">\n",
       "  <thead>\n",
       "    <tr style=\"text-align: right;\">\n",
       "      <th></th>\n",
       "      <th>Name</th>\n",
       "      <th>Roster Position</th>\n",
       "      <th>Salary</th>\n",
       "      <th>TeamAbbrev</th>\n",
       "      <th>AvgPointsPerGame</th>\n",
       "      <th>PG</th>\n",
       "      <th>SG</th>\n",
       "      <th>SF</th>\n",
       "      <th>PF</th>\n",
       "      <th>C</th>\n",
       "      <th>G</th>\n",
       "      <th>F</th>\n",
       "      <th>UTIL</th>\n",
       "    </tr>\n",
       "  </thead>\n",
       "  <tbody>\n",
       "    <tr>\n",
       "      <th>0</th>\n",
       "      <td>Giannis Antetokounmpo</td>\n",
       "      <td>PF/F/UTIL</td>\n",
       "      <td>11400</td>\n",
       "      <td>MIL</td>\n",
       "      <td>59.39</td>\n",
       "      <td>0</td>\n",
       "      <td>0</td>\n",
       "      <td>0</td>\n",
       "      <td>Giannis_Antetokounmpo_PF</td>\n",
       "      <td>0</td>\n",
       "      <td>0</td>\n",
       "      <td>Giannis_Antetokounmpo_F</td>\n",
       "      <td>Giannis_Antetokounmpo_UTIL</td>\n",
       "    </tr>\n",
       "    <tr>\n",
       "      <th>1</th>\n",
       "      <td>James Harden</td>\n",
       "      <td>PG/SG/G/UTIL</td>\n",
       "      <td>11200</td>\n",
       "      <td>HOU</td>\n",
       "      <td>59.62</td>\n",
       "      <td>James_Harden_PG</td>\n",
       "      <td>James_Harden_SG</td>\n",
       "      <td>0</td>\n",
       "      <td>0</td>\n",
       "      <td>0</td>\n",
       "      <td>James_Harden_G</td>\n",
       "      <td>0</td>\n",
       "      <td>James_Harden_UTIL</td>\n",
       "    </tr>\n",
       "    <tr>\n",
       "      <th>2</th>\n",
       "      <td>Russell Westbrook</td>\n",
       "      <td>PG/G/UTIL</td>\n",
       "      <td>8900</td>\n",
       "      <td>HOU</td>\n",
       "      <td>50.06</td>\n",
       "      <td>Russell_Westbrook_PG</td>\n",
       "      <td>0</td>\n",
       "      <td>0</td>\n",
       "      <td>0</td>\n",
       "      <td>0</td>\n",
       "      <td>Russell_Westbrook_G</td>\n",
       "      <td>0</td>\n",
       "      <td>Russell_Westbrook_UTIL</td>\n",
       "    </tr>\n",
       "    <tr>\n",
       "      <th>3</th>\n",
       "      <td>Jimmy Butler</td>\n",
       "      <td>SG/SF/F/G/UTIL</td>\n",
       "      <td>8300</td>\n",
       "      <td>MIA</td>\n",
       "      <td>41.53</td>\n",
       "      <td>0</td>\n",
       "      <td>Jimmy_Butler_SG</td>\n",
       "      <td>Jimmy_Butler_SF</td>\n",
       "      <td>0</td>\n",
       "      <td>0</td>\n",
       "      <td>Jimmy_Butler_G</td>\n",
       "      <td>Jimmy_Butler_F</td>\n",
       "      <td>Jimmy_Butler_UTIL</td>\n",
       "    </tr>\n",
       "    <tr>\n",
       "      <th>4</th>\n",
       "      <td>Chris Paul</td>\n",
       "      <td>PG/G/UTIL</td>\n",
       "      <td>8200</td>\n",
       "      <td>OKC</td>\n",
       "      <td>37.53</td>\n",
       "      <td>Chris_Paul_PG</td>\n",
       "      <td>0</td>\n",
       "      <td>0</td>\n",
       "      <td>0</td>\n",
       "      <td>0</td>\n",
       "      <td>Chris_Paul_G</td>\n",
       "      <td>0</td>\n",
       "      <td>Chris_Paul_UTIL</td>\n",
       "    </tr>\n",
       "  </tbody>\n",
       "</table>\n",
       "</div>"
      ],
      "text/plain": [
       "                    Name Roster Position  Salary TeamAbbrev  AvgPointsPerGame  \\\n",
       "0  Giannis Antetokounmpo       PF/F/UTIL   11400        MIL             59.39   \n",
       "1           James Harden    PG/SG/G/UTIL   11200        HOU             59.62   \n",
       "2      Russell Westbrook       PG/G/UTIL    8900        HOU             50.06   \n",
       "3           Jimmy Butler  SG/SF/F/G/UTIL    8300        MIA             41.53   \n",
       "4             Chris Paul       PG/G/UTIL    8200        OKC             37.53   \n",
       "\n",
       "                     PG               SG               SF  \\\n",
       "0                     0                0                0   \n",
       "1       James_Harden_PG  James_Harden_SG                0   \n",
       "2  Russell_Westbrook_PG                0                0   \n",
       "3                     0  Jimmy_Butler_SG  Jimmy_Butler_SF   \n",
       "4         Chris_Paul_PG                0                0   \n",
       "\n",
       "                         PF  C                    G                        F  \\\n",
       "0  Giannis_Antetokounmpo_PF  0                    0  Giannis_Antetokounmpo_F   \n",
       "1                         0  0       James_Harden_G                        0   \n",
       "2                         0  0  Russell_Westbrook_G                        0   \n",
       "3                         0  0       Jimmy_Butler_G           Jimmy_Butler_F   \n",
       "4                         0  0         Chris_Paul_G                        0   \n",
       "\n",
       "                         UTIL  \n",
       "0  Giannis_Antetokounmpo_UTIL  \n",
       "1           James_Harden_UTIL  \n",
       "2      Russell_Westbrook_UTIL  \n",
       "3           Jimmy_Butler_UTIL  \n",
       "4             Chris_Paul_UTIL  "
      ]
     },
     "execution_count": 22,
     "metadata": {},
     "output_type": "execute_result"
    }
   ],
   "source": [
    "dk_data.head()"
   ]
  },
  {
   "cell_type": "code",
   "execution_count": 23,
   "metadata": {},
   "outputs": [],
   "source": [
    "# The objective function is added to 'prob' first\n",
    "# OBJ FUNCTION\n",
    "prob += lpSum([dk_data[i] * projected_points for i in nba_roster_positions]), 'Projected Points'"
   ]
  },
  {
   "cell_type": "code",
   "execution_count": 24,
   "metadata": {},
   "outputs": [],
   "source": [
    "# CONSTRAINTS\n",
    "\n",
    "# Stay under salary cap\n",
    "prob += lpSum(salaries * dk_data[i] for i in nba_roster_positions) <= SALARY_CAP\n",
    "\n",
    "# Stay under Num Players\n",
    "prob += lpSum(dk_data[i] for i in nba_roster_positions) <= MAX_PLAYERS\n",
    "\n",
    "# Select one of each position\n",
    "for position in nba_roster_positions:\n",
    "    prob += lpSum([dk_data[position]]) >= 1\n",
    "\n",
    "# Don't use same player twice\n",
    "for index, row in dk_data.iterrows():\n",
    "    prob += lpSum(row[i] for i in nba_roster_positions) <= 1\n"
   ]
  },
  {
   "cell_type": "code",
   "execution_count": 25,
   "metadata": {},
   "outputs": [],
   "source": [
    "# prob"
   ]
  },
  {
   "cell_type": "code",
   "execution_count": 26,
   "metadata": {},
   "outputs": [
    {
     "data": {
      "text/plain": [
       "1"
      ]
     },
     "execution_count": 26,
     "metadata": {},
     "output_type": "execute_result"
    }
   ],
   "source": [
    "# The problem is solved using PuLP's choice of Solver\n",
    "prob.solve()"
   ]
  },
  {
   "cell_type": "code",
   "execution_count": 27,
   "metadata": {},
   "outputs": [
    {
     "data": {
      "text/plain": [
       "1"
      ]
     },
     "execution_count": 27,
     "metadata": {},
     "output_type": "execute_result"
    }
   ],
   "source": [
    "prob.status"
   ]
  },
  {
   "cell_type": "code",
   "execution_count": 28,
   "metadata": {},
   "outputs": [
    {
     "name": "stdout",
     "output_type": "stream",
     "text": [
      "Total Estimated Points =  277.01\n"
     ]
    }
   ],
   "source": [
    "print(\"Total Estimated Points = \", value(prob.objective))\n"
   ]
  },
  {
   "cell_type": "code",
   "execution_count": 29,
   "metadata": {},
   "outputs": [
    {
     "name": "stdout",
     "output_type": "stream",
     "text": [
      "Derrick_Jones_Jr._SF\n",
      "Donte_DiVincenzo_G\n",
      "Giannis_Antetokounmpo_PF\n",
      "Jae_Crowder_F\n",
      "James_Harden_UTIL\n",
      "Kendrick_Nunn_SG\n",
      "Nerlens_Noel_C\n",
      "Russell_Westbrook_PG\n"
     ]
    }
   ],
   "source": [
    "# Each of the variables is printed with it's resolved optimum value\n",
    "for v in prob.variables():\n",
    "    if v.varValue == 1:\n",
    "        print(v.name)\n",
    "        v.getName"
   ]
  },
  {
   "cell_type": "code",
   "execution_count": null,
   "metadata": {},
   "outputs": [],
   "source": []
  }
 ],
 "metadata": {
  "kernelspec": {
   "display_name": "Python 3",
   "language": "python",
   "name": "python3"
  },
  "language_info": {
   "codemirror_mode": {
    "name": "ipython",
    "version": 3
   },
   "file_extension": ".py",
   "mimetype": "text/x-python",
   "name": "python",
   "nbconvert_exporter": "python",
   "pygments_lexer": "ipython3",
   "version": "3.7.0"
  }
 },
 "nbformat": 4,
 "nbformat_minor": 2
}
