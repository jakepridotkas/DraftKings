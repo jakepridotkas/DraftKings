{
 "cells": [
  {
   "cell_type": "markdown",
   "metadata": {},
   "source": [
    "### DK Salaries Optimizer"
   ]
  },
  {
   "cell_type": "code",
   "execution_count": 1,
   "metadata": {},
   "outputs": [],
   "source": [
    "import pandas as pd\n",
    "import numpy as np\n",
    "from pulp import *"
   ]
  },
  {
   "cell_type": "code",
   "execution_count": 2,
   "metadata": {},
   "outputs": [
    {
     "data": {
      "text/html": [
       "<div>\n",
       "<style scoped>\n",
       "    .dataframe tbody tr th:only-of-type {\n",
       "        vertical-align: middle;\n",
       "    }\n",
       "\n",
       "    .dataframe tbody tr th {\n",
       "        vertical-align: top;\n",
       "    }\n",
       "\n",
       "    .dataframe thead th {\n",
       "        text-align: right;\n",
       "    }\n",
       "</style>\n",
       "<table border=\"1\" class=\"dataframe\">\n",
       "  <thead>\n",
       "    <tr style=\"text-align: right;\">\n",
       "      <th></th>\n",
       "      <th>Name</th>\n",
       "      <th>Roster Position</th>\n",
       "      <th>Salary</th>\n",
       "      <th>TeamAbbrev</th>\n",
       "      <th>AvgPointsPerGame</th>\n",
       "    </tr>\n",
       "  </thead>\n",
       "  <tbody>\n",
       "    <tr>\n",
       "      <th>0</th>\n",
       "      <td>Robin Lehner</td>\n",
       "      <td>G</td>\n",
       "      <td>8100</td>\n",
       "      <td>VGK</td>\n",
       "      <td>17.09</td>\n",
       "    </tr>\n",
       "    <tr>\n",
       "      <th>1</th>\n",
       "      <td>Marc-Andre Fleury</td>\n",
       "      <td>G</td>\n",
       "      <td>7900</td>\n",
       "      <td>VGK</td>\n",
       "      <td>12.64</td>\n",
       "    </tr>\n",
       "    <tr>\n",
       "      <th>2</th>\n",
       "      <td>Carter Hart</td>\n",
       "      <td>G</td>\n",
       "      <td>7800</td>\n",
       "      <td>PHI</td>\n",
       "      <td>13.26</td>\n",
       "    </tr>\n",
       "    <tr>\n",
       "      <th>3</th>\n",
       "      <td>Semyon Varlamov</td>\n",
       "      <td>G</td>\n",
       "      <td>7700</td>\n",
       "      <td>NYI</td>\n",
       "      <td>13.49</td>\n",
       "    </tr>\n",
       "    <tr>\n",
       "      <th>4</th>\n",
       "      <td>Brian Elliott</td>\n",
       "      <td>G</td>\n",
       "      <td>7600</td>\n",
       "      <td>PHI</td>\n",
       "      <td>10.92</td>\n",
       "    </tr>\n",
       "  </tbody>\n",
       "</table>\n",
       "</div>"
      ],
      "text/plain": [
       "                Name Roster Position  Salary TeamAbbrev  AvgPointsPerGame\n",
       "0       Robin Lehner               G    8100        VGK             17.09\n",
       "1  Marc-Andre Fleury               G    7900        VGK             12.64\n",
       "2        Carter Hart               G    7800        PHI             13.26\n",
       "3    Semyon Varlamov               G    7700        NYI             13.49\n",
       "4      Brian Elliott               G    7600        PHI             10.92"
      ]
     },
     "execution_count": 2,
     "metadata": {},
     "output_type": "execute_result"
    }
   ],
   "source": [
    "dk_data = pd.read_csv(\"data/dksalaries_nhl.csv\")\n",
    "\n",
    "# Get the fields that are useful\n",
    "dk_data = dk_data[['Name', 'Roster Position', 'Salary', 'TeamAbbrev', 'AvgPointsPerGame']]\n",
    "\n",
    "dk_data.head()"
   ]
  },
  {
   "cell_type": "code",
   "execution_count": 49,
   "metadata": {},
   "outputs": [],
   "source": [
    "injured_players = ['Jacob Markstrom', 'Oskar Lindblom']"
   ]
  },
  {
   "cell_type": "code",
   "execution_count": 50,
   "metadata": {},
   "outputs": [],
   "source": [
    "dk_data = dk_data[~dk_data['Name'].isin(injured_players)]"
   ]
  },
  {
   "cell_type": "code",
   "execution_count": 51,
   "metadata": {},
   "outputs": [],
   "source": [
    "# Roster Positions for NBA \n",
    "nhl_roster_positions = ['C', 'W', 'D', 'G', 'UTIL']\n",
    "\n",
    "SALARY_CAP = 50000\n",
    "MAX_PLAYERS = 9\n",
    "\n",
    "\n",
    "def make_vars(name, position, roster_position):\n",
    "    if position in roster_position:\n",
    "        return LpVariable(name + '_' + position,lowBound=0, cat='Binary')\n",
    "    return 0\n",
    "\n",
    "for position in nhl_roster_positions:\n",
    "    dk_data[position] = dk_data.apply(lambda x: make_vars(x['Name'],position, x['Roster Position']),axis=1)\n",
    "\n",
    "    #[1 if position in x else 0 for x in dk_data['Roster Position']]"
   ]
  },
  {
   "cell_type": "code",
   "execution_count": 52,
   "metadata": {},
   "outputs": [],
   "source": [
    "prob = LpProblem(\"OptimizeDK\",LpMaximize)"
   ]
  },
  {
   "cell_type": "code",
   "execution_count": 53,
   "metadata": {},
   "outputs": [],
   "source": [
    "names = dk_data['Name']\n",
    "salaries = dk_data['Salary']\n",
    "projected_points = dk_data['AvgPointsPerGame']"
   ]
  },
  {
   "cell_type": "code",
   "execution_count": 54,
   "metadata": {},
   "outputs": [
    {
     "data": {
      "text/html": [
       "<div>\n",
       "<style scoped>\n",
       "    .dataframe tbody tr th:only-of-type {\n",
       "        vertical-align: middle;\n",
       "    }\n",
       "\n",
       "    .dataframe tbody tr th {\n",
       "        vertical-align: top;\n",
       "    }\n",
       "\n",
       "    .dataframe thead th {\n",
       "        text-align: right;\n",
       "    }\n",
       "</style>\n",
       "<table border=\"1\" class=\"dataframe\">\n",
       "  <thead>\n",
       "    <tr style=\"text-align: right;\">\n",
       "      <th></th>\n",
       "      <th>Name</th>\n",
       "      <th>Roster Position</th>\n",
       "      <th>Salary</th>\n",
       "      <th>TeamAbbrev</th>\n",
       "      <th>AvgPointsPerGame</th>\n",
       "      <th>C</th>\n",
       "      <th>W</th>\n",
       "      <th>D</th>\n",
       "      <th>G</th>\n",
       "      <th>UTIL</th>\n",
       "    </tr>\n",
       "  </thead>\n",
       "  <tbody>\n",
       "    <tr>\n",
       "      <th>0</th>\n",
       "      <td>Robin Lehner</td>\n",
       "      <td>G</td>\n",
       "      <td>8100</td>\n",
       "      <td>VGK</td>\n",
       "      <td>17.09</td>\n",
       "      <td>0</td>\n",
       "      <td>0</td>\n",
       "      <td>0</td>\n",
       "      <td>Robin_Lehner_G</td>\n",
       "      <td>0</td>\n",
       "    </tr>\n",
       "    <tr>\n",
       "      <th>1</th>\n",
       "      <td>Marc-Andre Fleury</td>\n",
       "      <td>G</td>\n",
       "      <td>7900</td>\n",
       "      <td>VGK</td>\n",
       "      <td>12.64</td>\n",
       "      <td>0</td>\n",
       "      <td>0</td>\n",
       "      <td>0</td>\n",
       "      <td>Marc_Andre_Fleury_G</td>\n",
       "      <td>0</td>\n",
       "    </tr>\n",
       "    <tr>\n",
       "      <th>2</th>\n",
       "      <td>Carter Hart</td>\n",
       "      <td>G</td>\n",
       "      <td>7800</td>\n",
       "      <td>PHI</td>\n",
       "      <td>13.26</td>\n",
       "      <td>0</td>\n",
       "      <td>0</td>\n",
       "      <td>0</td>\n",
       "      <td>Carter_Hart_G</td>\n",
       "      <td>0</td>\n",
       "    </tr>\n",
       "    <tr>\n",
       "      <th>3</th>\n",
       "      <td>Semyon Varlamov</td>\n",
       "      <td>G</td>\n",
       "      <td>7700</td>\n",
       "      <td>NYI</td>\n",
       "      <td>13.49</td>\n",
       "      <td>0</td>\n",
       "      <td>0</td>\n",
       "      <td>0</td>\n",
       "      <td>Semyon_Varlamov_G</td>\n",
       "      <td>0</td>\n",
       "    </tr>\n",
       "    <tr>\n",
       "      <th>4</th>\n",
       "      <td>Brian Elliott</td>\n",
       "      <td>G</td>\n",
       "      <td>7600</td>\n",
       "      <td>PHI</td>\n",
       "      <td>10.92</td>\n",
       "      <td>0</td>\n",
       "      <td>0</td>\n",
       "      <td>0</td>\n",
       "      <td>Brian_Elliott_G</td>\n",
       "      <td>0</td>\n",
       "    </tr>\n",
       "  </tbody>\n",
       "</table>\n",
       "</div>"
      ],
      "text/plain": [
       "                Name Roster Position  Salary TeamAbbrev  AvgPointsPerGame  C  \\\n",
       "0       Robin Lehner               G    8100        VGK             17.09  0   \n",
       "1  Marc-Andre Fleury               G    7900        VGK             12.64  0   \n",
       "2        Carter Hart               G    7800        PHI             13.26  0   \n",
       "3    Semyon Varlamov               G    7700        NYI             13.49  0   \n",
       "4      Brian Elliott               G    7600        PHI             10.92  0   \n",
       "\n",
       "   W  D                    G UTIL  \n",
       "0  0  0       Robin_Lehner_G    0  \n",
       "1  0  0  Marc_Andre_Fleury_G    0  \n",
       "2  0  0        Carter_Hart_G    0  \n",
       "3  0  0    Semyon_Varlamov_G    0  \n",
       "4  0  0      Brian_Elliott_G    0  "
      ]
     },
     "execution_count": 54,
     "metadata": {},
     "output_type": "execute_result"
    }
   ],
   "source": [
    "dk_data.head()"
   ]
  },
  {
   "cell_type": "code",
   "execution_count": 55,
   "metadata": {},
   "outputs": [],
   "source": [
    "# The objective function is added to 'prob' first\n",
    "# OBJ FUNCTION\n",
    "prob += lpSum([dk_data[i] * projected_points for i in nhl_roster_positions]), 'Projected Points'"
   ]
  },
  {
   "cell_type": "code",
   "execution_count": 56,
   "metadata": {},
   "outputs": [],
   "source": [
    "# CONSTRAINTS\n",
    "\n",
    "# Stay under salary cap\n",
    "prob += lpSum(salaries * dk_data[i] for i in nhl_roster_positions) <= SALARY_CAP\n",
    "\n",
    "# Stay under Num Players\n",
    "prob += lpSum(dk_data[i] for i in nhl_roster_positions) <= MAX_PLAYERS\n",
    "\n",
    "# Select one of each position\n",
    "prob += lpSum([dk_data['C']]) >= 2\n",
    "prob += lpSum([dk_data['W']]) >= 3\n",
    "prob += lpSum([dk_data['D']]) >= 2\n",
    "prob += lpSum([dk_data['G']]) >= 1\n",
    "prob += lpSum([dk_data['UTIL']]) >= 1\n",
    "\n",
    "\n",
    "# Don't use same player twice\n",
    "for index, row in dk_data.iterrows():\n",
    "    prob += lpSum(row[i] for i in nhl_roster_positions) <= 1\n"
   ]
  },
  {
   "cell_type": "code",
   "execution_count": 57,
   "metadata": {},
   "outputs": [],
   "source": [
    "# prob"
   ]
  },
  {
   "cell_type": "code",
   "execution_count": 58,
   "metadata": {},
   "outputs": [
    {
     "data": {
      "text/plain": [
       "1"
      ]
     },
     "execution_count": 58,
     "metadata": {},
     "output_type": "execute_result"
    }
   ],
   "source": [
    "# The problem is solved using PuLP's choice of Solver\n",
    "prob.solve()"
   ]
  },
  {
   "cell_type": "code",
   "execution_count": 59,
   "metadata": {},
   "outputs": [
    {
     "data": {
      "text/plain": [
       "1"
      ]
     },
     "execution_count": 59,
     "metadata": {},
     "output_type": "execute_result"
    }
   ],
   "source": [
    "prob.status"
   ]
  },
  {
   "cell_type": "code",
   "execution_count": 45,
   "metadata": {},
   "outputs": [
    {
     "name": "stdout",
     "output_type": "stream",
     "text": [
      "Total Estimated Points =  104.79\n"
     ]
    }
   ],
   "source": [
    "print(\"Total Estimated Points = \", value(prob.objective))\n"
   ]
  },
  {
   "cell_type": "code",
   "execution_count": 46,
   "metadata": {},
   "outputs": [
    {
     "name": "stdout",
     "output_type": "stream",
     "text": [
      "Alexander_Edler_D\n",
      "Bo_Horvat_C\n",
      "Brock_Boeser_UTIL\n",
      "J.T._Miller_W\n",
      "Max_Pacioretty_W\n",
      "Patrick_Brown_C\n",
      "Robin_Lehner_G\n",
      "Ryan_Pulock_D\n",
      "Tanner_Pearson_W\n"
     ]
    }
   ],
   "source": [
    "# Each of the variables is printed with it's resolved optimum value\n",
    "for v in prob.variables():\n",
    "    if v.varValue == 1:\n",
    "        print(v.name)\n",
    "        v.getName"
   ]
  },
  {
   "cell_type": "code",
   "execution_count": null,
   "metadata": {},
   "outputs": [],
   "source": []
  },
  {
   "cell_type": "code",
   "execution_count": null,
   "metadata": {},
   "outputs": [],
   "source": []
  }
 ],
 "metadata": {
  "kernelspec": {
   "display_name": "Python 3",
   "language": "python",
   "name": "python3"
  },
  "language_info": {
   "codemirror_mode": {
    "name": "ipython",
    "version": 3
   },
   "file_extension": ".py",
   "mimetype": "text/x-python",
   "name": "python",
   "nbconvert_exporter": "python",
   "pygments_lexer": "ipython3",
   "version": "3.7.0"
  }
 },
 "nbformat": 4,
 "nbformat_minor": 2
}
