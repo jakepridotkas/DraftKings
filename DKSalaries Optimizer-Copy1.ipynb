{
 "cells": [
  {
   "cell_type": "markdown",
   "metadata": {},
   "source": [
    "### DK Salaries Optimizer"
   ]
  },
  {
   "cell_type": "code",
   "execution_count": 1,
   "metadata": {},
   "outputs": [],
   "source": [
    "import pandas as pd\n",
    "import numpy as np\n",
    "from pulp import *"
   ]
  },
  {
   "cell_type": "code",
   "execution_count": 2,
   "metadata": {},
   "outputs": [
    {
     "data": {
      "text/html": [
       "<div>\n",
       "<style scoped>\n",
       "    .dataframe tbody tr th:only-of-type {\n",
       "        vertical-align: middle;\n",
       "    }\n",
       "\n",
       "    .dataframe tbody tr th {\n",
       "        vertical-align: top;\n",
       "    }\n",
       "\n",
       "    .dataframe thead th {\n",
       "        text-align: right;\n",
       "    }\n",
       "</style>\n",
       "<table border=\"1\" class=\"dataframe\">\n",
       "  <thead>\n",
       "    <tr style=\"text-align: right;\">\n",
       "      <th></th>\n",
       "      <th>Name</th>\n",
       "      <th>Roster Position</th>\n",
       "      <th>Salary</th>\n",
       "      <th>TeamAbbrev</th>\n",
       "      <th>AvgPointsPerGame</th>\n",
       "    </tr>\n",
       "  </thead>\n",
       "  <tbody>\n",
       "    <tr>\n",
       "      <th>0</th>\n",
       "      <td>Yu Darvish</td>\n",
       "      <td>P</td>\n",
       "      <td>11000</td>\n",
       "      <td>CHC</td>\n",
       "      <td>26.25</td>\n",
       "    </tr>\n",
       "    <tr>\n",
       "      <th>1</th>\n",
       "      <td>Shane Bieber</td>\n",
       "      <td>P</td>\n",
       "      <td>11000</td>\n",
       "      <td>CLE</td>\n",
       "      <td>33.76</td>\n",
       "    </tr>\n",
       "    <tr>\n",
       "      <th>2</th>\n",
       "      <td>Max Scherzer</td>\n",
       "      <td>P</td>\n",
       "      <td>11000</td>\n",
       "      <td>WAS</td>\n",
       "      <td>20.84</td>\n",
       "    </tr>\n",
       "    <tr>\n",
       "      <th>3</th>\n",
       "      <td>Chris Sale</td>\n",
       "      <td>P</td>\n",
       "      <td>10800</td>\n",
       "      <td>BOS</td>\n",
       "      <td>0.00</td>\n",
       "    </tr>\n",
       "    <tr>\n",
       "      <th>4</th>\n",
       "      <td>Eduardo Rodriguez</td>\n",
       "      <td>P</td>\n",
       "      <td>10500</td>\n",
       "      <td>BOS</td>\n",
       "      <td>0.00</td>\n",
       "    </tr>\n",
       "  </tbody>\n",
       "</table>\n",
       "</div>"
      ],
      "text/plain": [
       "                Name Roster Position  Salary TeamAbbrev  AvgPointsPerGame\n",
       "0         Yu Darvish               P   11000        CHC             26.25\n",
       "1       Shane Bieber               P   11000        CLE             33.76\n",
       "2       Max Scherzer               P   11000        WAS             20.84\n",
       "3         Chris Sale               P   10800        BOS              0.00\n",
       "4  Eduardo Rodriguez               P   10500        BOS              0.00"
      ]
     },
     "execution_count": 2,
     "metadata": {},
     "output_type": "execute_result"
    }
   ],
   "source": [
    "dk_data = pd.read_csv(\"DKSalaries_mlb.csv\")\n",
    "\n",
    "# Get the fields that are useful\n",
    "dk_data = dk_data[['Name', 'Roster Position', 'Salary', 'TeamAbbrev', 'AvgPointsPerGame']]\n",
    "\n",
    "dk_data.head()"
   ]
  },
  {
   "cell_type": "code",
   "execution_count": 3,
   "metadata": {},
   "outputs": [],
   "source": [
    "# Roster Positions for NBA \n",
    "mlb_roster_positions = ['P', 'C', '1B', '2B', '3B', 'SS', 'OF']\n",
    "\n",
    "SALARY_CAP = 50000\n",
    "MAX_PLAYERS = 10\n",
    "\n",
    "for position in mlb_roster_positions:\n",
    "    dk_data[position] = [1 if position in x else 0 for x in dk_data['Roster Position']]"
   ]
  },
  {
   "cell_type": "code",
   "execution_count": 4,
   "metadata": {},
   "outputs": [],
   "source": [
    "prob = LpProblem(\"OptimizeDK\",LpMaximize)"
   ]
  },
  {
   "cell_type": "code",
   "execution_count": 5,
   "metadata": {},
   "outputs": [],
   "source": [
    "names = dk_data['Name']\n",
    "salaries = dk_data['Salary']\n",
    "projected_points = dk_data['AvgPointsPerGame']"
   ]
  },
  {
   "cell_type": "code",
   "execution_count": 6,
   "metadata": {},
   "outputs": [
    {
     "data": {
      "text/html": [
       "<div>\n",
       "<style scoped>\n",
       "    .dataframe tbody tr th:only-of-type {\n",
       "        vertical-align: middle;\n",
       "    }\n",
       "\n",
       "    .dataframe tbody tr th {\n",
       "        vertical-align: top;\n",
       "    }\n",
       "\n",
       "    .dataframe thead th {\n",
       "        text-align: right;\n",
       "    }\n",
       "</style>\n",
       "<table border=\"1\" class=\"dataframe\">\n",
       "  <thead>\n",
       "    <tr style=\"text-align: right;\">\n",
       "      <th></th>\n",
       "      <th>Name</th>\n",
       "      <th>Roster Position</th>\n",
       "      <th>Salary</th>\n",
       "      <th>TeamAbbrev</th>\n",
       "      <th>AvgPointsPerGame</th>\n",
       "      <th>P</th>\n",
       "      <th>C</th>\n",
       "      <th>1B</th>\n",
       "      <th>2B</th>\n",
       "      <th>3B</th>\n",
       "      <th>SS</th>\n",
       "      <th>OF</th>\n",
       "    </tr>\n",
       "  </thead>\n",
       "  <tbody>\n",
       "    <tr>\n",
       "      <th>0</th>\n",
       "      <td>Yu Darvish</td>\n",
       "      <td>P</td>\n",
       "      <td>11000</td>\n",
       "      <td>CHC</td>\n",
       "      <td>26.25</td>\n",
       "      <td>1</td>\n",
       "      <td>0</td>\n",
       "      <td>0</td>\n",
       "      <td>0</td>\n",
       "      <td>0</td>\n",
       "      <td>0</td>\n",
       "      <td>0</td>\n",
       "    </tr>\n",
       "    <tr>\n",
       "      <th>1</th>\n",
       "      <td>Shane Bieber</td>\n",
       "      <td>P</td>\n",
       "      <td>11000</td>\n",
       "      <td>CLE</td>\n",
       "      <td>33.76</td>\n",
       "      <td>1</td>\n",
       "      <td>0</td>\n",
       "      <td>0</td>\n",
       "      <td>0</td>\n",
       "      <td>0</td>\n",
       "      <td>0</td>\n",
       "      <td>0</td>\n",
       "    </tr>\n",
       "    <tr>\n",
       "      <th>2</th>\n",
       "      <td>Max Scherzer</td>\n",
       "      <td>P</td>\n",
       "      <td>11000</td>\n",
       "      <td>WAS</td>\n",
       "      <td>20.84</td>\n",
       "      <td>1</td>\n",
       "      <td>0</td>\n",
       "      <td>0</td>\n",
       "      <td>0</td>\n",
       "      <td>0</td>\n",
       "      <td>0</td>\n",
       "      <td>0</td>\n",
       "    </tr>\n",
       "    <tr>\n",
       "      <th>3</th>\n",
       "      <td>Chris Sale</td>\n",
       "      <td>P</td>\n",
       "      <td>10800</td>\n",
       "      <td>BOS</td>\n",
       "      <td>0.00</td>\n",
       "      <td>1</td>\n",
       "      <td>0</td>\n",
       "      <td>0</td>\n",
       "      <td>0</td>\n",
       "      <td>0</td>\n",
       "      <td>0</td>\n",
       "      <td>0</td>\n",
       "    </tr>\n",
       "    <tr>\n",
       "      <th>4</th>\n",
       "      <td>Eduardo Rodriguez</td>\n",
       "      <td>P</td>\n",
       "      <td>10500</td>\n",
       "      <td>BOS</td>\n",
       "      <td>0.00</td>\n",
       "      <td>1</td>\n",
       "      <td>0</td>\n",
       "      <td>0</td>\n",
       "      <td>0</td>\n",
       "      <td>0</td>\n",
       "      <td>0</td>\n",
       "      <td>0</td>\n",
       "    </tr>\n",
       "  </tbody>\n",
       "</table>\n",
       "</div>"
      ],
      "text/plain": [
       "                Name Roster Position  Salary TeamAbbrev  AvgPointsPerGame  P  \\\n",
       "0         Yu Darvish               P   11000        CHC             26.25  1   \n",
       "1       Shane Bieber               P   11000        CLE             33.76  1   \n",
       "2       Max Scherzer               P   11000        WAS             20.84  1   \n",
       "3         Chris Sale               P   10800        BOS              0.00  1   \n",
       "4  Eduardo Rodriguez               P   10500        BOS              0.00  1   \n",
       "\n",
       "   C  1B  2B  3B  SS  OF  \n",
       "0  0   0   0   0   0   0  \n",
       "1  0   0   0   0   0   0  \n",
       "2  0   0   0   0   0   0  \n",
       "3  0   0   0   0   0   0  \n",
       "4  0   0   0   0   0   0  "
      ]
     },
     "execution_count": 6,
     "metadata": {},
     "output_type": "execute_result"
    }
   ],
   "source": [
    "dk_data.head()"
   ]
  },
  {
   "cell_type": "code",
   "execution_count": 7,
   "metadata": {},
   "outputs": [],
   "source": [
    "players = pulp.LpVariable.dicts(\"player\", dk_data.index, lowBound=0, cat='Binary')"
   ]
  },
  {
   "cell_type": "code",
   "execution_count": 8,
   "metadata": {},
   "outputs": [],
   "source": [
    "# The objective function is added to 'prob' first\n",
    "# OBJ FUNCTION\n",
    "prob += sum([players[i] * projected_points[i] for i in players]), 'Projected Points'"
   ]
  },
  {
   "cell_type": "code",
   "execution_count": null,
   "metadata": {},
   "outputs": [],
   "source": [
    "# CONSTRAINTS\n",
    "\n",
    "# Stay under salary cap\n",
    "prob += lpSum([salaries[i] * players[i] for i in players]) <= SALARY_CAP\n",
    "\n",
    "# Stay under Num Players\n",
    "prob += lpSum([players[i] for i in players]) <= MAX_PLAYERS\n",
    "\n",
    "# Select one of each position\n",
    "prob += lpSum([dk_data['P'] * players[i] for i in players]) >= 2\n",
    "prob += lpSum([dk_data['C'] * players[i] for i in players]) >= 1\n",
    "prob += lpSum([dk_data['1B'] * players[i] for i in players]) >= 1\n",
    "prob += lpSum([dk_data['2B'] * players[i] for i in players]) >= 1\n",
    "prob += lpSum([dk_data['3B'] * players[i] for i in players]) >= 1\n",
    "prob += lpSum([dk_data['SS'] * players[i] for i in players]) >= 1\n",
    "prob += lpSum([dk_data['OF'] * players[i] for i in players]) >= 3\n",
    "\n"
   ]
  },
  {
   "cell_type": "code",
   "execution_count": null,
   "metadata": {},
   "outputs": [],
   "source": [
    "#prob"
   ]
  },
  {
   "cell_type": "code",
   "execution_count": null,
   "metadata": {},
   "outputs": [],
   "source": [
    "# The problem is solved using PuLP's choice of Solver\n",
    "prob.solve()"
   ]
  },
  {
   "cell_type": "code",
   "execution_count": null,
   "metadata": {},
   "outputs": [],
   "source": [
    "# Each of the variables is printed with it's resolved optimum value\n",
    "for v in prob.variables():\n",
    "    if v.varValue == 1:\n",
    "        print(v.name)\n",
    "        v.getName"
   ]
  },
  {
   "cell_type": "code",
   "execution_count": null,
   "metadata": {},
   "outputs": [],
   "source": [
    "flow = {l:players[l].varValue for l in players}"
   ]
  },
  {
   "cell_type": "code",
   "execution_count": null,
   "metadata": {},
   "outputs": [],
   "source": [
    "output = []\n",
    "for p in players:\n",
    "    var_output = {\n",
    "     'Player':p,\n",
    "     'Selected':flow[p]\n",
    "     }\n",
    "    output.append(var_output)"
   ]
  },
  {
   "cell_type": "code",
   "execution_count": null,
   "metadata": {},
   "outputs": [],
   "source": [
    "dfOptResults = pd.DataFrame.from_records(output)\n",
    "dfOptResults.set_index('Player', inplace=True)\n",
    "\n",
    "data = pd.merge(dk_data, dfOptResults, how='left', left_index=True, right_index=True)"
   ]
  },
  {
   "cell_type": "code",
   "execution_count": null,
   "metadata": {
    "scrolled": true
   },
   "outputs": [],
   "source": [
    "data[data['Selected'] == 1]"
   ]
  },
  {
   "cell_type": "code",
   "execution_count": null,
   "metadata": {},
   "outputs": [],
   "source": []
  },
  {
   "cell_type": "code",
   "execution_count": null,
   "metadata": {},
   "outputs": [],
   "source": []
  }
 ],
 "metadata": {
  "kernelspec": {
   "display_name": "Python 3",
   "language": "python",
   "name": "python3"
  },
  "language_info": {
   "codemirror_mode": {
    "name": "ipython",
    "version": 3
   },
   "file_extension": ".py",
   "mimetype": "text/x-python",
   "name": "python",
   "nbconvert_exporter": "python",
   "pygments_lexer": "ipython3",
   "version": "3.7.0"
  }
 },
 "nbformat": 4,
 "nbformat_minor": 2
}
